{
 "cells": [
  {
   "cell_type": "code",
   "execution_count": 2,
   "metadata": {
    "collapsed": true
   },
   "outputs": [],
   "source": [
    "import sys\n",
    "sys.path.append('../../bstadt/NeuroDataResource')\n",
    "sys.path.append('../../bstadt/Util')\n",
    "\n",
    "import numpy as np\n",
    "from NeuroDataResource import NeuroDataResource"
   ]
  },
  {
   "cell_type": "code",
   "execution_count": 3,
   "metadata": {
    "collapsed": true
   },
   "outputs": [],
   "source": [
    "with open('../data/api_key.txt', 'r') as f:\n",
    "    api_key = f.readline()"
   ]
  },
  {
   "cell_type": "code",
   "execution_count": 4,
   "metadata": {
    "collapsed": true
   },
   "outputs": [],
   "source": [
    "channel_list = [\n",
    "    {'name': 'annotation', 'dtype': 'uint64'},\n",
    "    {'name': 'DAPI1st', 'dtype': 'uint8'},\n",
    "    {'name': 'DAPI2nd', 'dtype': 'uint8'},\n",
    "    {'name': 'DAPI3rd', 'dtype': 'uint8'},\n",
    "    {'name': 'EM25K', 'dtype': 'uint8'},\n",
    "    {'name': 'EM2k', 'dtype': 'uint8'},\n",
    "    {'name': 'GABA488', 'dtype': 'uint8'},\n",
    "    {'name': 'GAD647', 'dtype': 'uint8'},\n",
    "    {'name': 'gephyrin594', 'dtype': 'uint8'},\n",
    "    {'name': 'GS594', 'dtype': 'uint8'},\n",
    "    {'name': 'MBP488', 'dtype': 'uint8'},\n",
    "    {'name': 'NR1594', 'dtype': 'uint8'},\n",
    "    {'name': 'PSD95_488', 'dtype': 'uint8'},\n",
    "    {'name': 'Synapsin647', 'dtype': 'uint8'},\n",
    "    {'name': 'VGluT1_647', 'dtype': 'uint8'}\n",
    "]"
   ]
  },
  {
   "cell_type": "code",
   "execution_count": 5,
   "metadata": {
    "collapsed": true
   },
   "outputs": [],
   "source": [
    "resource = NeuroDataResource('api.boss.neurodata.io',\n",
    "                               api_key,\n",
    "                               'collman',\n",
    "                               'collman15v2',\n",
    "                               channel_list)"
   ]
  },
  {
   "cell_type": "markdown",
   "metadata": {},
   "source": [
    "## Overview\n",
    "\n",
    "When requesting data from Boss, there is some size at which the returned np.array is in float64 dtype instead of the predefined dtype. \n",
    "1. Examine whether data returned in float64 is equivalent to the defined dtype data.\n",
    "2. Examine at what volume size Boss starts to return nd.array in float64 rather than the predefined dtype."
   ]
  },
  {
   "cell_type": "code",
   "execution_count": 6,
   "metadata": {},
   "outputs": [
    {
     "name": "stdout",
     "output_type": "stream",
     "text": [
      "<class 'numpy.uint8'>\n",
      "<class 'numpy.float64'>\n"
     ]
    }
   ],
   "source": [
    "# Test using PSD95_488 channel, which is uint8.\n",
    "img1 = resource.get_cutout('PSD95_488', [0, 4], [0, 4000], [0, 4000]) # returns uint8\n",
    "img2 = resource.get_cutout('PSD95_488', [0, 4], [0, 4000], [0, 5000]) # returns float64\n",
    "\n",
    "print(type(img1[0][0][0]))\n",
    "print(type(img2[0][0][0]))"
   ]
  },
  {
   "cell_type": "code",
   "execution_count": 7,
   "metadata": {
    "collapsed": true
   },
   "outputs": [],
   "source": [
    "img3 = img2.astype('uint8')"
   ]
  },
  {
   "cell_type": "code",
   "execution_count": 8,
   "metadata": {},
   "outputs": [
    {
     "name": "stdout",
     "output_type": "stream",
     "text": [
      "True\n",
      "True\n"
     ]
    }
   ],
   "source": [
    "# Returned data are identical\n",
    "print(np.array_equal(img1, img2[:, :, 0:4000]))\n",
    "print(np.array_equal(img1, img3[:, :, 0:4000]))"
   ]
  },
  {
   "cell_type": "code",
   "execution_count": 9,
   "metadata": {},
   "outputs": [
    {
     "name": "stdout",
     "output_type": "stream",
     "text": [
      "<class 'numpy.uint8'>\n",
      "<class 'numpy.float64'>\n"
     ]
    }
   ],
   "source": [
    "# Test using EM25K channel, which is uint8.\n",
    "img4 = resource.get_cutout('EM25K', [0, 4], [0, 4000], [0, 4000])\n",
    "img5 = resource.get_cutout('EM25K', [0, 4], [0, 4000], [0, 5000])\n",
    "\n",
    "print(type(img4[0][0][0]))\n",
    "print(type(img5[0][0][0]))"
   ]
  },
  {
   "cell_type": "code",
   "execution_count": 10,
   "metadata": {
    "collapsed": true
   },
   "outputs": [],
   "source": [
    "img6 = img5.astype('uint8')"
   ]
  },
  {
   "cell_type": "code",
   "execution_count": 11,
   "metadata": {},
   "outputs": [
    {
     "name": "stdout",
     "output_type": "stream",
     "text": [
      "True\n",
      "True\n"
     ]
    }
   ],
   "source": [
    "print(np.array_equal(img4, img5[:, :, 0:4000]))\n",
    "print(np.array_equal(img4, img6[:, :, 0:4000]))"
   ]
  },
  {
   "cell_type": "markdown",
   "metadata": {},
   "source": [
    "### Testing at what size NeuroDataResouce starts returning float64 instead of defined dtype."
   ]
  },
  {
   "cell_type": "code",
   "execution_count": 12,
   "metadata": {
    "collapsed": true
   },
   "outputs": [],
   "source": [
    "def granular_analysis(z_start, y_start, x_start, interval):\n",
    "    for z in range(z_start, 28):\n",
    "        for y in range(y_start, 4500, interval):\n",
    "            for x in range(x_start, 6306, interval):\n",
    "                img = resource.get_cutout('PSD95_488', [0, z], [0, y], [0, x])\n",
    "                dtype = type(img[0][0][0])\n",
    "                if dtype == type(np.float64()):\n",
    "                    print(z, y, x)\n",
    "                    return"
   ]
  },
  {
   "cell_type": "code",
   "execution_count": 13,
   "metadata": {},
   "outputs": [
    {
     "name": "stdout",
     "output_type": "stream",
     "text": [
      "4 2688 6272\n"
     ]
    }
   ],
   "source": [
    "granular_analysis(4, 2560, 5120, 128)"
   ]
  },
  {
   "cell_type": "code",
   "execution_count": 14,
   "metadata": {},
   "outputs": [
    {
     "name": "stdout",
     "output_type": "stream",
     "text": [
      "4 2688 6244\n"
     ]
    }
   ],
   "source": [
    "granular_analysis(4, 2688, 6272 - 128, 4)"
   ]
  },
  {
   "cell_type": "code",
   "execution_count": 15,
   "metadata": {
    "scrolled": false
   },
   "outputs": [
    {
     "name": "stdout",
     "output_type": "stream",
     "text": [
      "4 2688 6242\n"
     ]
    }
   ],
   "source": [
    "granular_analysis(4, 2688, 6244 - 4, 1)"
   ]
  },
  {
   "cell_type": "markdown",
   "metadata": {},
   "source": [
    "Confirm whether the dimensions (4, 2688, 6242) is the point at which Boss returns float64."
   ]
  },
  {
   "cell_type": "code",
   "execution_count": 16,
   "metadata": {
    "scrolled": true
   },
   "outputs": [
    {
     "data": {
      "text/plain": [
       "numpy.uint8"
      ]
     },
     "execution_count": 16,
     "metadata": {},
     "output_type": "execute_result"
    }
   ],
   "source": [
    "type(resource.get_cutout('PSD95_488', [0, 4], [0, 2688], [0, 6241])[0][0][0])"
   ]
  },
  {
   "cell_type": "code",
   "execution_count": 17,
   "metadata": {},
   "outputs": [
    {
     "data": {
      "text/plain": [
       "numpy.float64"
      ]
     },
     "execution_count": 17,
     "metadata": {},
     "output_type": "execute_result"
    }
   ],
   "source": [
    "type(resource.get_cutout('PSD95_488', [0, 4], [0, 2688], [0, 6242])[0][0][0])"
   ]
  },
  {
   "cell_type": "code",
   "execution_count": null,
   "metadata": {
    "collapsed": true
   },
   "outputs": [],
   "source": []
  }
 ],
 "metadata": {
  "kernelspec": {
   "display_name": "Python 3",
   "language": "python",
   "name": "python3"
  },
  "language_info": {
   "codemirror_mode": {
    "name": "ipython",
    "version": 3
   },
   "file_extension": ".py",
   "mimetype": "text/x-python",
   "name": "python",
   "nbconvert_exporter": "python",
   "pygments_lexer": "ipython3",
   "version": "3.6.1"
  }
 },
 "nbformat": 4,
 "nbformat_minor": 2
}
