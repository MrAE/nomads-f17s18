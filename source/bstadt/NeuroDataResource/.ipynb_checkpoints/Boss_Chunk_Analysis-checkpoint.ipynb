{
 "cells": [
  {
   "cell_type": "code",
   "execution_count": 73,
   "metadata": {},
   "outputs": [
    {
     "data": {
      "text/html": [
       "<script>requirejs.config({paths: { 'plotly': ['https://cdn.plot.ly/plotly-latest.min']},});if(!window.Plotly) {{require(['plotly'],function(plotly) {window.Plotly=plotly;});}}</script>"
      ],
      "text/vnd.plotly.v1+html": [
       "<script>requirejs.config({paths: { 'plotly': ['https://cdn.plot.ly/plotly-latest.min']},});if(!window.Plotly) {{require(['plotly'],function(plotly) {window.Plotly=plotly;});}}</script>"
      ]
     },
     "metadata": {},
     "output_type": "display_data"
    }
   ],
   "source": [
    "import time\n",
    "import pickle\n",
    "import numpy as np\n",
    "import matplotlib.pyplot as plt\n",
    "from NeuroDataResource import NeuroDataResource\n",
    "\n",
    "from plotly.offline import download_plotlyjs, init_notebook_mode, plot, iplot\n",
    "import plotly.graph_objs as go\n",
    "init_notebook_mode(connected=True)"
   ]
  },
  {
   "cell_type": "code",
   "execution_count": 60,
   "metadata": {},
   "outputs": [],
   "source": [
    "apiKey = pickle.load(open('./data/token.pkl', 'rb'))"
   ]
  },
  {
   "cell_type": "code",
   "execution_count": 61,
   "metadata": {
    "collapsed": true
   },
   "outputs": [],
   "source": [
    "def time_download_chunks(resource, channel, zRange, yRange, xRange, zSub, ySub, xSub):\n",
    "    start = time.time()\n",
    "    for z in (zRange[0], zRange[1], zSub):\n",
    "        for y in (yRange[0], yRange[1], ySub):\n",
    "            for x in (xRange[0], xRange[1], xSub):\n",
    "                chunk = resource.get_cutout(channel,\n",
    "                                            zRange = [z, z+zSub],\n",
    "                                            yRange = [y, y+ySub],\n",
    "                                            xRange = [x, x+xSub])\n",
    "    end = time.time()\n",
    "    return end-start"
   ]
  },
  {
   "cell_type": "code",
   "execution_count": 62,
   "metadata": {},
   "outputs": [],
   "source": [
    "myResource = NeuroDataResource('api.boss.neurodata.io',\n",
    "                               apiKey,\n",
    "                               'collman',\n",
    "                               'collman15v2',\n",
    "                               [{'name': 'DAPI1st', 'dtype':'uint8'}])"
   ]
  },
  {
   "cell_type": "code",
   "execution_count": 63,
   "metadata": {
    "scrolled": false
   },
   "outputs": [
    {
     "name": "stdout",
     "output_type": "stream",
     "text": [
      "Testing:\t xy:  32 \tz: 1\n",
      "Testing:\t xy:  64 \tz: 1\n",
      "Testing:\t xy:  128 \tz: 1\n",
      "Testing:\t xy:  256 \tz: 1\n",
      "Testing:\t xy:  512 \tz: 1\n",
      "Testing:\t xy:  32 \tz: 2\n",
      "Testing:\t xy:  64 \tz: 2\n",
      "Testing:\t xy:  128 \tz: 2\n",
      "Testing:\t xy:  256 \tz: 2\n",
      "Testing:\t xy:  512 \tz: 2\n",
      "Testing:\t xy:  32 \tz: 4\n",
      "Testing:\t xy:  64 \tz: 4\n",
      "Testing:\t xy:  128 \tz: 4\n",
      "Testing:\t xy:  256 \tz: 4\n",
      "Testing:\t xy:  512 \tz: 4\n",
      "Testing:\t xy:  32 \tz: 8\n",
      "Testing:\t xy:  64 \tz: 8\n",
      "Testing:\t xy:  128 \tz: 8\n",
      "Testing:\t xy:  256 \tz: 8\n",
      "Testing:\t xy:  512 \tz: 8\n"
     ]
    }
   ],
   "source": [
    "zRange = [0, 8]\n",
    "yRange = [0, 512]\n",
    "xRange = [0, 512]\n",
    "\n",
    "timeList = []\n",
    "for z in [1, 2, 4, 8]:\n",
    "    for xy in [32, 64, 128, 256, 512]:\n",
    "        print('Testing:\\t', 'xy: ', xy, '\\tz:', z)\n",
    "        myTime= time_download_chunks(myResource,\n",
    "                                    'DAPI1st',\n",
    "                                    zRange,\n",
    "                                    yRange,\n",
    "                                    xRange,\n",
    "                                    z,\n",
    "                                    xy,\n",
    "                                    xy)\n",
    "        timeList.append([z, xy, myTime])\n",
    "        \n",
    "        #since we dont want to hit cache\n",
    "        xRange = np.add(xRange, [512, 512])\n",
    "        if xRange[-1] > 6300:\n",
    "            xRange = [0,512]\n",
    "            yRange = np.add(yRange, [512, 512])"
   ]
  },
  {
   "cell_type": "code",
   "execution_count": 74,
   "metadata": {
    "scrolled": false
   },
   "outputs": [
    {
     "data": {
      "application/vnd.plotly.v1+json": {
       "data": [
        {
         "marker": {
          "color": 100,
          "opacity": 0.7,
          "size": 12
         },
         "mode": "markers",
         "type": "scatter3d",
         "x": [
          1,
          1,
          1,
          1,
          1,
          2,
          2,
          2,
          2,
          2,
          4,
          4,
          4,
          4,
          4,
          8,
          8,
          8,
          8,
          8
         ],
         "y": [
          32,
          64,
          128,
          256,
          512,
          32,
          64,
          128,
          256,
          512,
          32,
          64,
          128,
          256,
          512,
          32,
          64,
          128,
          256,
          512
         ],
         "z": [
          12.945305347442627,
          12.010746002197266,
          13.3694167137146,
          13.894140005111694,
          15.390801906585693,
          11.905826091766357,
          13.431257963180542,
          13.05412769317627,
          14.10252046585083,
          15.402939081192017,
          11.993598222732544,
          8.113719701766968,
          12.532121181488037,
          11.110387563705444,
          27.831185579299927,
          8.982286930084229,
          11.394858360290527,
          13.965767860412598,
          18.458174228668213,
          49.0019268989563
         ]
        }
       ],
       "layout": {
        "margin": {
         "b": 0,
         "l": 0,
         "r": 0,
         "t": 0
        }
       }
      },
      "text/html": [
       "<div id=\"0a859242-ad79-415f-9dbb-7c657cb059fa\" style=\"height: 525px; width: 100%;\" class=\"plotly-graph-div\"></div><script type=\"text/javascript\">require([\"plotly\"], function(Plotly) { window.PLOTLYENV=window.PLOTLYENV || {};window.PLOTLYENV.BASE_URL=\"https://plot.ly\";Plotly.newPlot(\"0a859242-ad79-415f-9dbb-7c657cb059fa\", [{\"type\": \"scatter3d\", \"y\": [32, 64, 128, 256, 512, 32, 64, 128, 256, 512, 32, 64, 128, 256, 512, 32, 64, 128, 256, 512], \"z\": [12.945305347442627, 12.010746002197266, 13.3694167137146, 13.894140005111694, 15.390801906585693, 11.905826091766357, 13.431257963180542, 13.05412769317627, 14.10252046585083, 15.402939081192017, 11.993598222732544, 8.113719701766968, 12.532121181488037, 11.110387563705444, 27.831185579299927, 8.982286930084229, 11.394858360290527, 13.965767860412598, 18.458174228668213, 49.0019268989563], \"x\": [1, 1, 1, 1, 1, 2, 2, 2, 2, 2, 4, 4, 4, 4, 4, 8, 8, 8, 8, 8], \"mode\": \"markers\", \"marker\": {\"color\": 100, \"size\": 12, \"opacity\": 0.7}}], {\"margin\": {\"t\": 0, \"l\": 0, \"b\": 0, \"r\": 0}}, {\"showLink\": true, \"linkText\": \"Export to plot.ly\"})});</script>"
      ],
      "text/vnd.plotly.v1+html": [
       "<div id=\"0a859242-ad79-415f-9dbb-7c657cb059fa\" style=\"height: 525px; width: 100%;\" class=\"plotly-graph-div\"></div><script type=\"text/javascript\">require([\"plotly\"], function(Plotly) { window.PLOTLYENV=window.PLOTLYENV || {};window.PLOTLYENV.BASE_URL=\"https://plot.ly\";Plotly.newPlot(\"0a859242-ad79-415f-9dbb-7c657cb059fa\", [{\"type\": \"scatter3d\", \"y\": [32, 64, 128, 256, 512, 32, 64, 128, 256, 512, 32, 64, 128, 256, 512, 32, 64, 128, 256, 512], \"z\": [12.945305347442627, 12.010746002197266, 13.3694167137146, 13.894140005111694, 15.390801906585693, 11.905826091766357, 13.431257963180542, 13.05412769317627, 14.10252046585083, 15.402939081192017, 11.993598222732544, 8.113719701766968, 12.532121181488037, 11.110387563705444, 27.831185579299927, 8.982286930084229, 11.394858360290527, 13.965767860412598, 18.458174228668213, 49.0019268989563], \"x\": [1, 1, 1, 1, 1, 2, 2, 2, 2, 2, 4, 4, 4, 4, 4, 8, 8, 8, 8, 8], \"mode\": \"markers\", \"marker\": {\"color\": 100, \"size\": 12, \"opacity\": 0.7}}], {\"margin\": {\"t\": 0, \"l\": 0, \"b\": 0, \"r\": 0}}, {\"showLink\": true, \"linkText\": \"Export to plot.ly\"})});</script>"
      ]
     },
     "metadata": {},
     "output_type": "display_data"
    }
   ],
   "source": [
    "trace = go.Scatter3d(\n",
    "    x = [elem[0] for elem in timeList],\n",
    "    y = [elem[1] for elem in timeList],\n",
    "    z = [elem[2] for elem in timeList],\n",
    "    mode='markers',\n",
    "    marker = dict(\n",
    "        size=12,\n",
    "        color=100,\n",
    "        opacity=.7\n",
    "    )\n",
    ")\n",
    "\n",
    "data = [trace]\n",
    "layout = go.Layout(margin=dict(l=0, r=0, t=0, b=0))\n",
    "fig = go.Figure(data=data, layout=layout)\n",
    "iplot(fig)"
   ]
  },
  {
   "cell_type": "code",
   "execution_count": 75,
   "metadata": {},
   "outputs": [
    {
     "data": {
      "image/png": "[encoded data removed]",
      "text/plain": [
       "<matplotlib.figure.Figure at 0x7f7ccc493940>"
      ]
     },
     "metadata": {},
     "output_type": "display_data"
    }
   ],
   "source": [
    "plt.figure()\n",
    "plt.scatter(\n",
    "    [elem[1]^2 * elem[0] for elem in timeList],\n",
    "    [elem[2] for elem in timeList]\n",
    ")\n",
    "plt.show()"
   ]
  },
  {
   "cell_type": "code",
   "execution_count": null,
   "metadata": {
    "collapsed": true
   },
   "outputs": [],
   "source": []
  }
 ],
 "metadata": {
  "kernelspec": {
   "display_name": "nomadenv",
   "language": "python",
   "name": "nomadenv"
  },
  "language_info": {
   "codemirror_mode": {
    "name": "ipython",
    "version": 3
   },
   "file_extension": ".py",
   "mimetype": "text/x-python",
   "name": "python",
   "nbconvert_exporter": "python",
   "pygments_lexer": "ipython3",
   "version": "3.5.2"
  }
 },
 "nbformat": 4,
 "nbformat_minor": 2
}
