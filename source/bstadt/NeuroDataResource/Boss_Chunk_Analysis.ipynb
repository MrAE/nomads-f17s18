{
 "cells": [
  {
   "cell_type": "code",
   "execution_count": 1,
   "metadata": {},
   "outputs": [
    {
     "data": {
      "text/html": [
       "<script>requirejs.config({paths: { 'plotly': ['https://cdn.plot.ly/plotly-latest.min']},});if(!window.Plotly) {{require(['plotly'],function(plotly) {window.Plotly=plotly;});}}</script>"
      ],
      "text/vnd.plotly.v1+html": [
       "<script>requirejs.config({paths: { 'plotly': ['https://cdn.plot.ly/plotly-latest.min']},});if(!window.Plotly) {{require(['plotly'],function(plotly) {window.Plotly=plotly;});}}</script>"
      ]
     },
     "metadata": {},
     "output_type": "display_data"
    }
   ],
   "source": [
    "import time\n",
    "import pickle\n",
    "import numpy as np\n",
    "import matplotlib.pyplot as plt\n",
    "from NeuroDataResource import NeuroDataResource\n",
    "\n",
    "from plotly.offline import download_plotlyjs, init_notebook_mode, plot, iplot\n",
    "import plotly.graph_objs as go\n",
    "init_notebook_mode(connected=True)"
   ]
  },
  {
   "cell_type": "code",
   "execution_count": 2,
   "metadata": {
    "collapsed": true
   },
   "outputs": [],
   "source": [
    "apiKey = pickle.load(open('./data/token.pkl', 'rb'))"
   ]
  },
  {
   "cell_type": "code",
   "execution_count": 3,
   "metadata": {
    "collapsed": true
   },
   "outputs": [],
   "source": [
    "def time_download_chunks(resource, channel, zRange, yRange, xRange, zSub, ySub, xSub):\n",
    "    start = time.time()\n",
    "    for z in (zRange[0], zRange[1], zSub):\n",
    "        for y in (yRange[0], yRange[1], ySub):\n",
    "            for x in (xRange[0], xRange[1], xSub):\n",
    "                chunk = resource.get_cutout(channel,\n",
    "                                            zRange = [z, z+zSub],\n",
    "                                            yRange = [y, y+ySub],\n",
    "                                            xRange = [x, x+xSub])\n",
    "    end = time.time()\n",
    "    return end-start"
   ]
  },
  {
   "cell_type": "code",
   "execution_count": 4,
   "metadata": {
    "collapsed": true
   },
   "outputs": [],
   "source": [
    "myResource = NeuroDataResource('api.boss.neurodata.io',\n",
    "                               apiKey,\n",
    "                               'collman',\n",
    "                               'collman15v2',\n",
    "                               [{'name': 'DAPI1st', 'dtype':'uint8'}])"
   ]
  },
  {
   "cell_type": "code",
   "execution_count": 5,
   "metadata": {
    "scrolled": false
   },
   "outputs": [
    {
     "name": "stdout",
     "output_type": "stream",
     "text": [
      "Testing:\t xy:  32 \tz: 1\n",
      "Testing:\t xy:  64 \tz: 1\n",
      "Testing:\t xy:  128 \tz: 1\n",
      "Testing:\t xy:  256 \tz: 1\n",
      "Testing:\t xy:  512 \tz: 1\n",
      "Testing:\t xy:  32 \tz: 2\n",
      "Testing:\t xy:  64 \tz: 2\n",
      "Testing:\t xy:  128 \tz: 2\n",
      "Testing:\t xy:  256 \tz: 2\n",
      "Testing:\t xy:  512 \tz: 2\n",
      "Testing:\t xy:  32 \tz: 4\n",
      "Testing:\t xy:  64 \tz: 4\n",
      "Testing:\t xy:  128 \tz: 4\n",
      "Testing:\t xy:  256 \tz: 4\n",
      "Testing:\t xy:  512 \tz: 4\n",
      "Testing:\t xy:  32 \tz: 8\n",
      "Testing:\t xy:  64 \tz: 8\n",
      "Testing:\t xy:  128 \tz: 8\n",
      "Testing:\t xy:  256 \tz: 8\n",
      "Testing:\t xy:  512 \tz: 8\n"
     ]
    }
   ],
   "source": [
    "zRange = [0, 8]\n",
    "yRange = [0, 512]\n",
    "xRange = [0, 512]\n",
    "\n",
    "timeList = []\n",
    "for z in [1, 2, 4, 8]:\n",
    "    for xy in [32, 64, 128, 256, 512]:\n",
    "        print('Testing:\\t', 'xy: ', xy, '\\tz:', z)\n",
    "        myTime= time_download_chunks(myResource,\n",
    "                                    'DAPI1st',\n",
    "                                    zRange,\n",
    "                                    yRange,\n",
    "                                    xRange,\n",
    "                                    z,\n",
    "                                    xy,\n",
    "                                    xy)\n",
    "        timeList.append([z, xy, myTime])\n",
    "        \n",
    "        #since we dont want to hit cache\n",
    "        xRange = np.add(xRange, [512, 512])\n",
    "        if xRange[-1] > 6300:\n",
    "            xRange = [0,512]\n",
    "            yRange = np.add(yRange, [512, 512])"
   ]
  },
  {
   "cell_type": "code",
   "execution_count": 6,
   "metadata": {
    "scrolled": false
   },
   "outputs": [
    {
     "data": {
      "application/vnd.plotly.v1+json": {
       "data": [
        {
         "marker": {
          "color": 100,
          "opacity": 0.7,
          "size": 12
         },
         "mode": "markers",
         "type": "scatter3d",
         "x": [
          1,
          1,
          1,
          1,
          1,
          2,
          2,
          2,
          2,
          2,
          4,
          4,
          4,
          4,
          4,
          8,
          8,
          8,
          8,
          8
         ],
         "y": [
          32,
          64,
          128,
          256,
          512,
          32,
          64,
          128,
          256,
          512,
          32,
          64,
          128,
          256,
          512,
          32,
          64,
          128,
          256,
          512
         ],
         "z": [
          22.458757638931274,
          14.621299505233765,
          15.666148900985718,
          17.755103826522827,
          12.552144289016724,
          13.559287309646606,
          15.150360822677612,
          10.959720849990845,
          15.145879745483398,
          16.24764585494995,
          14.560850620269775,
          14.622244834899902,
          15.665415048599243,
          15.156491994857788,
          20.3797390460968,
          13.578823566436768,
          14.073713541030884,
          14.10221242904663,
          14.666497230529785,
          26.2788348197937
         ]
        }
       ],
       "layout": {
        "margin": {
         "b": 0,
         "l": 0,
         "r": 0,
         "t": 0
        }
       }
      },
      "text/html": [
       "<div id=\"9de8eccc-4a00-4472-b31c-478829536630\" style=\"height: 525px; width: 100%;\" class=\"plotly-graph-div\"></div><script type=\"text/javascript\">require([\"plotly\"], function(Plotly) { window.PLOTLYENV=window.PLOTLYENV || {};window.PLOTLYENV.BASE_URL=\"https://plot.ly\";Plotly.newPlot(\"9de8eccc-4a00-4472-b31c-478829536630\", [{\"marker\": {\"size\": 12, \"opacity\": 0.7, \"color\": 100}, \"x\": [1, 1, 1, 1, 1, 2, 2, 2, 2, 2, 4, 4, 4, 4, 4, 8, 8, 8, 8, 8], \"y\": [32, 64, 128, 256, 512, 32, 64, 128, 256, 512, 32, 64, 128, 256, 512, 32, 64, 128, 256, 512], \"z\": [22.458757638931274, 14.621299505233765, 15.666148900985718, 17.755103826522827, 12.552144289016724, 13.559287309646606, 15.150360822677612, 10.959720849990845, 15.145879745483398, 16.24764585494995, 14.560850620269775, 14.622244834899902, 15.665415048599243, 15.156491994857788, 20.3797390460968, 13.578823566436768, 14.073713541030884, 14.10221242904663, 14.666497230529785, 26.2788348197937], \"type\": \"scatter3d\", \"mode\": \"markers\"}], {\"margin\": {\"b\": 0, \"t\": 0, \"l\": 0, \"r\": 0}}, {\"linkText\": \"Export to plot.ly\", \"showLink\": true})});</script>"
      ],
      "text/vnd.plotly.v1+html": [
       "<div id=\"9de8eccc-4a00-4472-b31c-478829536630\" style=\"height: 525px; width: 100%;\" class=\"plotly-graph-div\"></div><script type=\"text/javascript\">require([\"plotly\"], function(Plotly) { window.PLOTLYENV=window.PLOTLYENV || {};window.PLOTLYENV.BASE_URL=\"https://plot.ly\";Plotly.newPlot(\"9de8eccc-4a00-4472-b31c-478829536630\", [{\"marker\": {\"size\": 12, \"opacity\": 0.7, \"color\": 100}, \"x\": [1, 1, 1, 1, 1, 2, 2, 2, 2, 2, 4, 4, 4, 4, 4, 8, 8, 8, 8, 8], \"y\": [32, 64, 128, 256, 512, 32, 64, 128, 256, 512, 32, 64, 128, 256, 512, 32, 64, 128, 256, 512], \"z\": [22.458757638931274, 14.621299505233765, 15.666148900985718, 17.755103826522827, 12.552144289016724, 13.559287309646606, 15.150360822677612, 10.959720849990845, 15.145879745483398, 16.24764585494995, 14.560850620269775, 14.622244834899902, 15.665415048599243, 15.156491994857788, 20.3797390460968, 13.578823566436768, 14.073713541030884, 14.10221242904663, 14.666497230529785, 26.2788348197937], \"type\": \"scatter3d\", \"mode\": \"markers\"}], {\"margin\": {\"b\": 0, \"t\": 0, \"l\": 0, \"r\": 0}}, {\"linkText\": \"Export to plot.ly\", \"showLink\": true})});</script>"
      ]
     },
     "metadata": {},
     "output_type": "display_data"
    }
   ],
   "source": [
    "trace = go.Scatter3d(\n",
    "    x = [elem[0] for elem in timeList],\n",
    "    y = [elem[1] for elem in timeList],\n",
    "    z = [elem[2] for elem in timeList],\n",
    "    mode='markers',\n",
    "    marker = dict(\n",
    "        size=12,\n",
    "        color=100,\n",
    "        opacity=.7\n",
    "    )\n",
    ")\n",
    "\n",
    "data = [trace]\n",
    "layout = go.Layout(margin=dict(l=0, r=0, t=0, b=0))\n",
    "fig = go.Figure(data=data, layout=layout)\n",
    "iplot(fig)"
   ]
  },
  {
   "cell_type": "code",
   "execution_count": 7,
   "metadata": {},
   "outputs": [
    {
     "data": {
      "image/png": "[encoded data removed]",
      "text/plain": [
       "<matplotlib.figure.Figure at 0x7ff5d43cae80>"
      ]
     },
     "metadata": {},
     "output_type": "display_data"
    }
   ],
   "source": [
    "plt.figure()\n",
    "plt.scatter(\n",
    "    [elem[1]^2 * elem[0] for elem in timeList],\n",
    "    [elem[2] for elem in timeList]\n",
    ")\n",
    "plt.show()"
   ]
  },
  {
   "cell_type": "code",
   "execution_count": null,
   "metadata": {
    "collapsed": true
   },
   "outputs": [],
   "source": []
  }
 ],
 "metadata": {
  "kernelspec": {
   "display_name": "nomadenv",
   "language": "python",
   "name": "nomadenv"
  },
  "language_info": {
   "codemirror_mode": {
    "name": "ipython",
    "version": 3
   },
   "file_extension": ".py",
   "mimetype": "text/x-python",
   "name": "python",
   "nbconvert_exporter": "python",
   "pygments_lexer": "ipython3",
   "version": "3.5.2"
  }
 },
 "nbformat": 4,
 "nbformat_minor": 2
}
