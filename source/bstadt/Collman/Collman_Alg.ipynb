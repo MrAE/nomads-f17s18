{
 "cells": [
  {
   "cell_type": "code",
   "execution_count": 1,
   "metadata": {},
   "outputs": [],
   "source": [
    "import sys\n",
    "sys.path.append('../NeuroDataResource')\n",
    "\n",
    "import pickle\n",
    "import numpy as np\n",
    "from CollmanAlg import CollmanAlg\n",
    "from NeuroDataResource import NeuroDataResource\n",
    "from matplotlib import pyplot as plt"
   ]
  },
  {
   "cell_type": "markdown",
   "metadata": {},
   "source": [
    "# Overview\n",
    "The Collman algorithm is essentially a 4 step process:\n",
    "1.  Break PSD95 channel into xy slices\n",
    "2. For every xy slice, find the cutoff that makes the media blob size closest to .09 micrometers^2\n",
    "3. Apply the cutoff to every slice\n",
    "4. Merge the slices, and run connected components with a thresh of 400nm for final clusters\n",
    "\n",
    "## Constructor\n",
    "The constructor for the CollmanAlg takes 2 parameters:\n",
    "1. A NeuroDataResource containing the channel PSD95_488\n",
    "2. A pixel resolution in nanometers (i.e. x nanometers/pixel edge)\n"
   ]
  },
  {
   "cell_type": "code",
   "execution_count": 2,
   "metadata": {},
   "outputs": [],
   "source": [
    "myToken = pickle.load(open('../NeuroDataResource/data/token.pkl', 'rb'))\n",
    "\n",
    "ndr = NeuroDataResource('api.boss.neurodata.io',\n",
    "                        myToken,\n",
    "                        'collman',\n",
    "                        'collman15v2',\n",
    "                        [{'name': 'PSD95_488', 'dtype':'uint8'}])\n",
    "\n",
    "alg = CollmanAlg(ndr, 1.)"
   ]
  },
  {
   "cell_type": "markdown",
   "metadata": {},
   "source": [
    "The constructor will throw an error if the resource does not have the correct channels"
   ]
  },
  {
   "cell_type": "code",
   "execution_count": 3,
   "metadata": {},
   "outputs": [
    {
     "ename": "ValueError",
     "evalue": "PSD95_488 Channel must be in Resource",
     "output_type": "error",
     "traceback": [
      "\u001b[0;31m---------------------------------------------------------------------------\u001b[0m",
      "\u001b[0;31mValueError\u001b[0m                                Traceback (most recent call last)",
      "\u001b[0;32m<ipython-input-3-73658c88088a>\u001b[0m in \u001b[0;36m<module>\u001b[0;34m()\u001b[0m\n\u001b[1;32m      5\u001b[0m                                  [{'name': 'DAPI1st', 'dtype':'uint8'}])\n\u001b[1;32m      6\u001b[0m \u001b[0;34m\u001b[0m\u001b[0m\n\u001b[0;32m----> 7\u001b[0;31m \u001b[0mbad_alg\u001b[0m \u001b[0;34m=\u001b[0m \u001b[0mCollmanAlg\u001b[0m\u001b[0;34m(\u001b[0m\u001b[0mbad_resource\u001b[0m\u001b[0;34m,\u001b[0m \u001b[0;36m1\u001b[0m\u001b[0;34m)\u001b[0m\u001b[0;34m\u001b[0m\u001b[0m\n\u001b[0m",
      "\u001b[0;32m~/Neurodata/source/bstadt/Collman/CollmanAlg.py\u001b[0m in \u001b[0;36m__init__\u001b[0;34m(self, resource, resolution)\u001b[0m\n\u001b[1;32m     13\u001b[0m         \u001b[0mself\u001b[0m\u001b[0;34m.\u001b[0m\u001b[0m_resolution\u001b[0m \u001b[0;34m=\u001b[0m \u001b[0mresolution\u001b[0m \u001b[0;31m#resoltuion is nm per pixel\u001b[0m\u001b[0;34m\u001b[0m\u001b[0m\n\u001b[1;32m     14\u001b[0m         \u001b[0;32mif\u001b[0m \u001b[0;32mnot\u001b[0m \u001b[0mself\u001b[0m\u001b[0;34m.\u001b[0m\u001b[0m_resource\u001b[0m\u001b[0;34m.\u001b[0m\u001b[0massert_channel_exists\u001b[0m\u001b[0;34m(\u001b[0m\u001b[0;34m'PSD95_488'\u001b[0m\u001b[0;34m)\u001b[0m\u001b[0;34m:\u001b[0m\u001b[0;34m\u001b[0m\u001b[0m\n\u001b[0;32m---> 15\u001b[0;31m             \u001b[0;32mraise\u001b[0m \u001b[0mValueError\u001b[0m\u001b[0;34m(\u001b[0m\u001b[0;34m'PSD95_488 Channel must be in Resource'\u001b[0m\u001b[0;34m)\u001b[0m\u001b[0;34m\u001b[0m\u001b[0m\n\u001b[0m\u001b[1;32m     16\u001b[0m \u001b[0;34m\u001b[0m\u001b[0m\n\u001b[1;32m     17\u001b[0m \u001b[0;34m\u001b[0m\u001b[0m\n",
      "\u001b[0;31mValueError\u001b[0m: PSD95_488 Channel must be in Resource"
     ]
    }
   ],
   "source": [
    "bad_resource = NeuroDataResource('api.boss.neurodata.io',\n",
    "                                 myToken,\n",
    "                                 'collman',\n",
    "                                 'collman15v2',\n",
    "                                 [{'name': 'DAPI1st', 'dtype':'uint8'}])\n",
    "\n",
    "bad_alg = CollmanAlg(bad_resource, 1)"
   ]
  },
  {
   "cell_type": "markdown",
   "metadata": {},
   "source": [
    "## Methods\n",
    "The CollmanAlg class contans 3 methods:\n",
    "1. get_cluster_median(data): returns the median cluster volume in the data\n",
    "    - data: labeled data from which to find the median cluster area\n",
    "    <br/><br/>\n",
    "2. get_cutoff(data, myMin, myMax, target): recursively binary searches until get_cluster_median is as close to target as possible\n",
    "    - data: the data to operate on\n",
    "    - myMin: the min checkable cutoff\n",
    "    - myMax: the max checkable cutoff\n",
    "    - target: the target cluster volume median\n",
    "    - verbose: false by default, will print the binary search\n",
    "    <br/><br/>\n",
    "3. detect(zRange, yRange, xRange): pulls data in zRnge, yRange, and xRange from BOSS and runs the full algorithm\n",
    "    - zRange: range of z values to run alg over\n",
    "    - yRange: range of y values to run alg over\n",
    "    - xRange: range of x values to run alg over\n",
    "\n",
    "### get_cluster_median\n",
    "Just a couple of simple validation tests"
   ]
  },
  {
   "cell_type": "code",
   "execution_count": 4,
   "metadata": {},
   "outputs": [
    {
     "data": {
      "image/png": "[encoded data removed]",
      "text/plain": [
       "<matplotlib.figure.Figure at 0x7f1b87a88ef0>"
      ]
     },
     "metadata": {},
     "output_type": "display_data"
    },
    {
     "name": "stdout",
     "output_type": "stream",
     "text": [
      "Median:  4.0\n"
     ]
    }
   ],
   "source": [
    "synthetic = np.stack([[1, 1, 0, 0, 0],\n",
    "                      [1, 1, 0, 0, 0],\n",
    "                      [0, 0, 0, 0, 0],\n",
    "                      [0, 0, 0, 2, 2],\n",
    "                      [0, 0, 0, 2, 2]])\n",
    "plt.title('Median 4 volume')\n",
    "plt.imshow(synthetic)\n",
    "plt.show()\n",
    "print('Median: ', alg.get_cluster_median(synthetic))"
   ]
  },
  {
   "cell_type": "code",
   "execution_count": 5,
   "metadata": {},
   "outputs": [
    {
     "data": {
      "image/png": "[encoded data removed]",
      "text/plain": [
       "<matplotlib.figure.Figure at 0x7f1b879a1860>"
      ]
     },
     "metadata": {},
     "output_type": "display_data"
    },
    {
     "name": "stdout",
     "output_type": "stream",
     "text": [
      "Median:  3.0\n"
     ]
    }
   ],
   "source": [
    "synthetic = np.stack([[1, 1, 0, 0, 3],\n",
    "                      [1, 0, 0, 0, 0],\n",
    "                      [0, 0, 0, 0, 0],\n",
    "                      [4, 4, 0, 2, 2],\n",
    "                      [0, 4, 0, 2, 2]])\n",
    "plt.title('Median 3 volume')\n",
    "plt.imshow(synthetic)\n",
    "plt.show()\n",
    "print('Median: ', alg.get_cluster_median(synthetic))"
   ]
  },
  {
   "cell_type": "markdown",
   "metadata": {},
   "source": [
    "### get_cutoff\n",
    "The get_cutoff method runs a binary search for which cutoff gets the cluster median volume closest to the target.\n",
    "\n",
    "The following test data should find a cutoff between 20 and 21\n"
   ]
  },
  {
   "cell_type": "code",
   "execution_count": 6,
   "metadata": {},
   "outputs": [
    {
     "name": "stdout",
     "output_type": "stream",
     "text": [
      "[[21 21 20 20 21]\n",
      " [21 20 20 20 20]\n",
      " [20 20 20 20 20]\n",
      " [21 21 20 21 21]\n",
      " [20 21 20 21 21]]\n"
     ]
    }
   ],
   "source": [
    "test = 20 + (synthetic > 0).astype(int)\n",
    "print(test)"
   ]
  },
  {
   "cell_type": "code",
   "execution_count": 7,
   "metadata": {},
   "outputs": [
    {
     "name": "stdout",
     "output_type": "stream",
     "text": [
      "Med of: 25.0 \tat:  15.0\n",
      "Med of: 0.0 \tat:  22.5\n",
      "Med of: 25.0 \tat:  18.75\n",
      "Med of: 3.0 \tat:  20.625\n",
      "Cutoff:  20.625\n"
     ]
    }
   ],
   "source": [
    "cutoff = alg.get_cutoff(test, 0, 30, 3, verbose=True)\n",
    "print('Cutoff: ', cutoff)"
   ]
  },
  {
   "cell_type": "markdown",
   "metadata": {},
   "source": [
    "## Real Data"
   ]
  },
  {
   "cell_type": "code",
   "execution_count": 8,
   "metadata": {
    "collapsed": true
   },
   "outputs": [],
   "source": [
    "alg = CollmanAlg(ndr, 3.)\n",
    "detections = alg.detect([4, 14], [2000, 3000], [2000, 3000])"
   ]
  },
  {
   "cell_type": "code",
   "execution_count": 9,
   "metadata": {
    "collapsed": true
   },
   "outputs": [],
   "source": [
    "data = ndr.get_cutout('PSD95_488', [4, 14], [2000, 3000], [2000, 3000])"
   ]
  },
  {
   "cell_type": "code",
   "execution_count": null,
   "metadata": {
    "collapsed": true
   },
   "outputs": [],
   "source": [
    "plt.figure()\n",
    "plt.title('Raw')\n",
    "plt.imshow(data[0])\n",
    "plt.show()\n",
    "plt.title('Detections')\n",
    "plt.imshow(detections[0])\n",
    "plt.show()"
   ]
  }
 ],
 "metadata": {
  "kernelspec": {
   "display_name": "nomadenv",
   "language": "python",
   "name": "nomadenv"
  },
  "language_info": {
   "codemirror_mode": {
    "name": "ipython",
    "version": 3
   },
   "file_extension": ".py",
   "mimetype": "text/x-python",
   "name": "python",
   "nbconvert_exporter": "python",
   "pygments_lexer": "ipython3",
   "version": "3.5.2"
  }
 },
 "nbformat": 4,
 "nbformat_minor": 2
}
