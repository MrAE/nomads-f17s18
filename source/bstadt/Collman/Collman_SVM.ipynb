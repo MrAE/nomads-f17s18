{
 "cells": [
  {
   "cell_type": "code",
   "execution_count": 1,
   "metadata": {},
   "outputs": [],
   "source": [
    "import sys\n",
    "sys.path.append('../NeuroDataResource')\n",
    "sys.path.append('../Util')\n",
    "\n",
    "import time\n",
    "import pickle\n",
    "import numpy as np\n",
    "from CollmanSVM import CollmanSVM\n",
    "from Util import delta_epsilon\n",
    "from matplotlib import pyplot as plt\n",
    "from NeuroDataResource import NeuroDataResource"
   ]
  },
  {
   "cell_type": "markdown",
   "metadata": {},
   "source": [
    "# Overview\n",
    "The Collman SVM pseudocode is given below:\n",
    "```\n",
    "clusters = MedianFilter(data)\n",
    "\n",
    "for biomarker_channel in clusters:\n",
    "    mu = mean(biomarker_channel)\n",
    "    sigma = stdev(biomarker_channel)\n",
    "    biomarker_channel = (biomarker_channel - mu)/sigma\n",
    "\n",
    "svm = svm.fit(clusters, cluster_labels, kkt_violation=.04)\n",
    "```\n",
    "\n",
    "## Collman SVM Class\n",
    "### Constructor\n",
    "The constructor for CollmanSVM takes 2 parameters:\n",
    "- resource: a NeuroDataResource containing the channels\n",
    "    - GABA488\n",
    "    - gephyrin594\n",
    "    - GAD647\n",
    "    - Synapsin647\n",
    "    - GS594\n",
    "    - VGluT1_647\n",
    "    - annotation\n",
    "    \n",
    "- resolution:\n",
    "    The number of nanometers per pixel edge"
   ]
  },
  {
   "cell_type": "code",
   "execution_count": 2,
   "metadata": {
    "collapsed": true
   },
   "outputs": [],
   "source": [
    "myToken = pickle.load(open('../NeuroDataResource/data/token.pkl', 'rb'))\n",
    "\n",
    "bioMarkerDict = [{'name': 'PSD95_488', 'dtype':'uint8'},\n",
    "                 {'name': 'GABA488', 'dtype':'uint8'},\n",
    "                 {'name': 'gephyrin594', 'dtype':'uint8'},\n",
    "                 {'name': 'GAD647', 'dtype':'uint8'},\n",
    "                 {'name': 'Synapsin647', 'dtype':'uint8'},\n",
    "                 {'name': 'GS594', 'dtype':'uint8'},\n",
    "                 {'name': 'VGluT1_647', 'dtype':'uint8'},\n",
    "                 {'name': 'annotation', 'dtype':'uint64'},\n",
    "                ]\n",
    "\n",
    "ndr = NeuroDataResource('api.boss.neurodata.io',\n",
    "                        myToken,\n",
    "                        'collman',\n",
    "                        'collman15v2',\n",
    "                        bioMarkerDict)\n",
    "\n",
    "svm = CollmanSVM(ndr, 3.)"
   ]
  },
  {
   "cell_type": "markdown",
   "metadata": {},
   "source": [
    "The constructor will throw an error if the resource does not have the correct channels:"
   ]
  },
  {
   "cell_type": "code",
   "execution_count": 3,
   "metadata": {},
   "outputs": [
    {
     "name": "stdout",
     "output_type": "stream",
     "text": [
      "PSD95_488  Error Raised Succesfully!\n",
      "GABA488  Error Raised Succesfully!\n",
      "gephyrin594  Error Raised Succesfully!\n",
      "GAD647  Error Raised Succesfully!\n",
      "Synapsin647  Error Raised Succesfully!\n",
      "GS594  Error Raised Succesfully!\n",
      "VGluT1_647  Error Raised Succesfully!\n",
      "annotation  Error Raised Succesfully!\n"
     ]
    }
   ],
   "source": [
    "for i in range(len(bioMarkerDict)):\n",
    "    badDict = [elem for j, elem in enumerate(bioMarkerDict) if i != j]\n",
    "    \n",
    "    badndr = NeuroDataResource('api.boss.neurodata.io',\n",
    "                            myToken,\n",
    "                            'collman',\n",
    "                            'collman15v2',\n",
    "                            badDict)\n",
    "\n",
    "    try:\n",
    "        svm = CollmanSVM(badndr, 3.)\n",
    "        print(bioMarkerDict[i]['name'], ' Error Not Raised!')\n",
    "    except ValueError:\n",
    "        print(bioMarkerDict[i]['name'], ' Error Raised Succesfully!')"
   ]
  },
  {
   "cell_type": "markdown",
   "metadata": {},
   "source": [
    "### Class Methods\n",
    "The CollmanSVM class cotains methods:\n",
    "\n",
    "1. masked_z_transform(mask, data): perform a z transform on a subset of the data\n",
    "    - mask: np array of 1's and 0's of the same shape as data. Elements with a 1 will be included in z transform calculations\n",
    "    - data: the data to z transform\n",
    "    \n",
    "2. make_svm_example(clusters, zChannels, clusterIdx): returns a [label, feature vector] pair for training an SVM\n",
    "    - clusters: a labeled volume from median_filter\n",
    "    - zChannels: z-transformed biomarkers from masked_z_transform\n",
    "    - clusterIdx: the index of the cluster to label\n",
    "\n",
    "3. train_on_volume(zRange, yRange, xRange): trains the SVM on the z transformed features in the range specified by the arguments\n",
    "\n",
    "#### masked_z_transform\n",
    "A couple fo simple validation examples:"
   ]
  },
  {
   "cell_type": "code",
   "execution_count": 4,
   "metadata": {
    "collapsed": true
   },
   "outputs": [],
   "source": [
    "synthetic = np.stack([[1, 1, 0, 0, 0],\n",
    "                      [1, 1, 0, 0, 0],\n",
    "                      [0, 0, 0, 0, 0],\n",
    "                      [0, 0, 0, 2, 2],\n",
    "                      [0, 0, 0, 2, 2]])\n",
    "\n",
    "mask = np.stack([[1, 1, 0, 0, 0],\n",
    "                 [1, 1, 0, 0, 0],\n",
    "                 [0, 0, 0, 0, 0],\n",
    "                 [0, 0, 0, 1, 1],\n",
    "                 [0, 0, 0, 1, 1]])\n"
   ]
  },
  {
   "cell_type": "code",
   "execution_count": 5,
   "metadata": {
    "collapsed": true
   },
   "outputs": [],
   "source": [
    "z_volume = svm.masked_z_transform(mask, synthetic)"
   ]
  },
  {
   "cell_type": "markdown",
   "metadata": {},
   "source": [
    "If the algorithm worked as planned, the output should have mean 0 and variance 1 when first multiplied with the mask"
   ]
  },
  {
   "cell_type": "code",
   "execution_count": 6,
   "metadata": {},
   "outputs": [
    {
     "name": "stdout",
     "output_type": "stream",
     "text": [
      "Mean: 0.0\n"
     ]
    }
   ],
   "source": [
    "testMu = np.sum(np.multiply(mask, z_volume))/np.count_nonzero(mask)\n",
    "print('Mean:', testMu)"
   ]
  },
  {
   "cell_type": "code",
   "execution_count": 7,
   "metadata": {},
   "outputs": [
    {
     "name": "stdout",
     "output_type": "stream",
     "text": [
      "Var: 1.0\n"
     ]
    }
   ],
   "source": [
    "testVar = np.sum(np.multiply(mask, (z_volume)**2))/np.count_nonzero(mask)\n",
    "print('Var:', testVar)"
   ]
  },
  {
   "cell_type": "markdown",
   "metadata": {},
   "source": [
    "We can also assert that the output is what can be computed by hand"
   ]
  },
  {
   "cell_type": "code",
   "execution_count": 8,
   "metadata": {},
   "outputs": [
    {
     "data": {
      "text/plain": [
       "array([[ True,  True,  True,  True,  True],\n",
       "       [ True,  True,  True,  True,  True],\n",
       "       [ True,  True,  True,  True,  True],\n",
       "       [ True,  True,  True,  True,  True],\n",
       "       [ True,  True,  True,  True,  True]], dtype=bool)"
      ]
     },
     "execution_count": 8,
     "metadata": {},
     "output_type": "execute_result"
    }
   ],
   "source": [
    "np.multiply(mask, z_volume) == np.stack([[-1, -1, 0, 0, 0],\n",
    "                                         [-1, -1, 0, 0, 0],\n",
    "                                         [0, 0, 0, 0, 0],\n",
    "                                         [0, 0, 0, 1, 1],\n",
    "                                         [0, 0, 0, 1, 1]])"
   ]
  },
  {
   "cell_type": "markdown",
   "metadata": {},
   "source": [
    "Additionally, we can generate a series of random inputs and make sure that they have mean 0 and variance 1"
   ]
  },
  {
   "cell_type": "code",
   "execution_count": 9,
   "metadata": {},
   "outputs": [
    {
     "name": "stdout",
     "output_type": "stream",
     "text": [
      "Test  0 : Passed!\n",
      "Test  1 : Passed!\n",
      "Test  2 : Passed!\n",
      "Test  3 : Passed!\n",
      "Test  4 : Passed!\n",
      "Test  5 : Passed!\n",
      "Test  6 : Passed!\n",
      "Test  7 : Passed!\n",
      "Test  8 : Passed!\n",
      "Test  9 : Passed!\n"
     ]
    }
   ],
   "source": [
    "for i in range(10):\n",
    "    synthetic = np.random.random((100, 100))\n",
    "    mask= np.array(np.random.random((100, 100)) < .5).astype(float)\n",
    "    z_volume = svm.masked_z_transform(mask, synthetic)\n",
    "    \n",
    "    testMu = np.sum(np.multiply(mask, z_volume))/np.count_nonzero(mask)\n",
    "    testVar = np.sum(np.multiply(mask, (z_volume)**2))/np.count_nonzero(mask)\n",
    "   \n",
    "    #NOTE delta_epsilon(a, b, c) returns true if floats a and b differ by at most c \n",
    "    if delta_epsilon(testMu, 0., 1e-6) and delta_epsilon(testVar, 1., 1e-6):\n",
    "        print('Test ',i, ': Passed!')\n",
    "    else:\n",
    "        print('Test ',i, ': Failed!')\n",
    "        \n",
    "        "
   ]
  },
  {
   "cell_type": "markdown",
   "metadata": {
    "collapsed": true
   },
   "source": [
    "#### make_svm_example\n",
    "Validation Unit Test"
   ]
  },
  {
   "cell_type": "code",
   "execution_count": 10,
   "metadata": {},
   "outputs": [],
   "source": [
    "syntheticX = np.stack([[1, 1, 0, 0, 0],\n",
    "                       [1, 1, 0, 0, 0],\n",
    "                       [0, 0, 0, 0, 0],\n",
    "                       [0, 0, 0, 2, 2],\n",
    "                       [0, 0, 0, 2, 2]])\n",
    "\n",
    "mask = np.array(syntheticX > 0).astype(int)\n",
    "\n",
    "syntheticBiomarker1 = np.stack([[1, 1, 0, 0, 0],\n",
    "                                [1, 1, 0, 0, 0],\n",
    "                                [0, 0, 0, 0, 0],\n",
    "                                [0, 0, 0, 0, 0],\n",
    "                                [0, 0, 0, 0, 0]])\n",
    "\n",
    "syntheticBiomarker2 = np.random.random((5, 5))\n",
    "\n",
    "syntheticBiomarkers = np.stack([syntheticBiomarker1,\n",
    "                                syntheticBiomarker2])\n",
    "\n",
    "syntheticZ = [svm.masked_z_transform(mask, elem) for elem in syntheticBiomarkers]\n",
    "\n",
    "labels = np.stack([[1, 1, 0, 0, 0],\n",
    "                 [1, 1, 0, 0, 0],\n",
    "                 [0, 0, 0, 0, 0],\n",
    "                 [0, 0, 0, 0, 0],\n",
    "                 [0, 0, 0, 0, 0]])"
   ]
  },
  {
   "cell_type": "code",
   "execution_count": 11,
   "metadata": {
    "collapsed": true
   },
   "outputs": [],
   "source": [
    "examples = [svm.make_svm_example(syntheticX, syntheticZ, labels, i) for i in range(1, np.max(syntheticX) + 1)]"
   ]
  },
  {
   "cell_type": "markdown",
   "metadata": {},
   "source": [
    "If this function runs as expected, then it will produce:\n",
    "[[True, [1.0, random]], [False, [-1.0,random]]]\n",
    "Since cluster 1 is the only cluster that is labeled, and the first biomaker has z transform of mean 1 and stdev 1"
   ]
  },
  {
   "cell_type": "code",
   "execution_count": 12,
   "metadata": {},
   "outputs": [
    {
     "name": "stdout",
     "output_type": "stream",
     "text": [
      "[[True, [1.0, 0.36117775795562146]], [False, [-1.0, -0.36117775795562124]]]\n"
     ]
    }
   ],
   "source": [
    "print(examples)"
   ]
  },
  {
   "cell_type": "markdown",
   "metadata": {},
   "source": [
    "A validation test of the function running on a subset of real Collman Data"
   ]
  },
  {
   "cell_type": "code",
   "execution_count": 13,
   "metadata": {},
   "outputs": [],
   "source": [
    "testCollmanLabel = ndr.get_cutout('annotation', [11, 13], [1800, 2700], [2500,3600])\n",
    "testCollmanPSD = svm._medianFilter.detect([11, 13], [1800, 2700], [2500,3600])\n",
    "testCollmanMarker = ndr.get_cutout('Synapsin647', [11, 13], [1800, 2700], [2500,3600])"
   ]
  },
  {
   "cell_type": "code",
   "execution_count": 14,
   "metadata": {
    "scrolled": false
   },
   "outputs": [
    {
     "data": {
      "image/png": "[encoded data removed]",
      "text/plain": [
       "<matplotlib.figure.Figure at 0x7f209023c438>"
      ]
     },
     "metadata": {},
     "output_type": "display_data"
    },
    {
     "data": {
      "image/png": "[encoded data removed]",
      "text/plain": [
       "<matplotlib.figure.Figure at 0x7f204e7d3da0>"
      ]
     },
     "metadata": {},
     "output_type": "display_data"
    }
   ],
   "source": [
    "plt.figure()\n",
    "for z in range(2):\n",
    "    plt.title('Subset Annotations At z=' + str(z))\n",
    "    plt.imshow(testCollmanLabel[z], cmap='gray')\n",
    "    plt.show()"
   ]
  },
  {
   "cell_type": "code",
   "execution_count": 15,
   "metadata": {},
   "outputs": [
    {
     "data": {
      "image/png": "[encoded data removed]",
      "text/plain": [
       "<matplotlib.figure.Figure at 0x7f204e74cf98>"
      ]
     },
     "metadata": {},
     "output_type": "display_data"
    },
    {
     "data": {
      "image/png": "[encoded data removed]",
      "text/plain": [
       "<matplotlib.figure.Figure at 0x7f204e7bacf8>"
      ]
     },
     "metadata": {},
     "output_type": "display_data"
    }
   ],
   "source": [
    "for z in range(2):\n",
    "    plt.figure()\n",
    "    plt.title('Subset PSD95_488 at z='+str(z))\n",
    "    plt.imshow(testCollmanPSD[z], cmap='gray')\n",
    "    plt.show()"
   ]
  },
  {
   "cell_type": "markdown",
   "metadata": {},
   "source": [
    "Based on this distribution of labels and PSD Puncta, the make_svm_example should create 3 true and 1 false examples"
   ]
  },
  {
   "cell_type": "code",
   "execution_count": 16,
   "metadata": {},
   "outputs": [
    {
     "data": {
      "image/png": "[encoded data removed]",
      "text/plain": [
       "<matplotlib.figure.Figure at 0x7f204e6aaa58>"
      ]
     },
     "metadata": {},
     "output_type": "display_data"
    },
    {
     "data": {
      "image/png": "[encoded data removed]",
      "text/plain": [
       "<matplotlib.figure.Figure at 0x7f204e745f98>"
      ]
     },
     "metadata": {},
     "output_type": "display_data"
    }
   ],
   "source": [
    "for z in range(2):\n",
    "    plt.figure()\n",
    "    plt.title('Subset Synapsin at z='+str(z))\n",
    "    plt.imshow(testCollmanMarker[z], cmap='gray')\n",
    "    plt.show()"
   ]
  },
  {
   "cell_type": "code",
   "execution_count": 17,
   "metadata": {},
   "outputs": [],
   "source": [
    "zMarker = svm.masked_z_transform(testCollmanPSD, testCollmanMarker)"
   ]
  },
  {
   "cell_type": "code",
   "execution_count": 18,
   "metadata": {
    "collapsed": true
   },
   "outputs": [],
   "source": [
    "examples = [svm.make_svm_example(testCollmanPSD, [zMarker], testCollmanLabel, i)\\\n",
    "            for i in range(1, np.max(testCollmanPSD) + 1)]"
   ]
  },
  {
   "cell_type": "code",
   "execution_count": null,
   "metadata": {},
   "outputs": [
    {
     "data": {
      "text/plain": [
       "[[True, [-0.29014704883193643]],\n",
       " [True, [-0.029918344799351734]],\n",
       " [True, [-0.80988035150648807]],\n",
       " [False, [-0.82873195288286772]]]"
      ]
     },
     "execution_count": 19,
     "metadata": {},
     "output_type": "execute_result"
    }
   ],
   "source": [
    "examples"
   ]
  },
  {
   "cell_type": "markdown",
   "metadata": {},
   "source": [
    "#### train_on_volume"
   ]
  },
  {
   "cell_type": "code",
   "execution_count": null,
   "metadata": {},
   "outputs": [],
   "source": [
    "start = time.time()\n",
    "svm.train_on_volume([1, 21], [1000, 2000], [1000, 2500])\n",
    "end = time.time()\n",
    "\n",
    "print('Training took: ', end - start, ' seconds!')"
   ]
  },
  {
   "cell_type": "code",
   "execution_count": null,
   "metadata": {},
   "outputs": [],
   "source": [
    "predictions = svm.predict_on_volume([1, 21], [2000, 3000], [2500, 3500])"
   ]
  },
  {
   "cell_type": "code",
   "execution_count": null,
   "metadata": {
    "collapsed": true
   },
   "outputs": [],
   "source": [
    "medianFilter = svm._medianFilter.detect([1, 21], [2000, 3000], [2500,3500])"
   ]
  },
  {
   "cell_type": "code",
   "execution_count": null,
   "metadata": {
    "collapsed": true
   },
   "outputs": [],
   "source": [
    "gt = ndr.get_cutout('annotation',[1, 21], [2000, 3000], [2500, 3500])"
   ]
  },
  {
   "cell_type": "code",
   "execution_count": null,
   "metadata": {
    "scrolled": false
   },
   "outputs": [],
   "source": [
    "\n",
    "for i in range(19):\n",
    "    plt.figure(figsize=(15, 35))\n",
    "    plt.subplot(131)\n",
    "    plt.title('SVM Predictions z='+str(i))\n",
    "    plt.imshow(predictions[i], cmap='gray')\n",
    "    \n",
    "    plt.subplot(132)\n",
    "    plt.title('Collman Basic (Median Filter) Predictions z=' + str(i))\n",
    "    plt.imshow(medianFilter[i], cmap='gray')\n",
    "\n",
    "    plt.subplot(133)\n",
    "    plt.title('GT z=' + str(i))\n",
    "    plt.imshow(gt[i], cmap='gray')\n",
    "    plt.show()"
   ]
  },
  {
   "cell_type": "code",
   "execution_count": null,
   "metadata": {
    "collapsed": true
   },
   "outputs": [],
   "source": []
  }
 ],
 "metadata": {
  "kernelspec": {
   "display_name": "nomadenv",
   "language": "python",
   "name": "nomadenv"
  },
  "language_info": {
   "codemirror_mode": {
    "name": "ipython",
    "version": 3
   },
   "file_extension": ".py",
   "mimetype": "text/x-python",
   "name": "python",
   "nbconvert_exporter": "python",
   "pygments_lexer": "ipython3",
   "version": "3.5.2"
  }
 },
 "nbformat": 4,
 "nbformat_minor": 2
}
